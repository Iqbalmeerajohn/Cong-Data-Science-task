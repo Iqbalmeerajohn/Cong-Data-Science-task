{
 "cells": [
  {
   "cell_type": "code",
   "execution_count": 1,
   "id": "8948175f",
   "metadata": {
    "_cell_guid": "b1076dfc-b9ad-4769-8c92-a6c4dae69d19",
    "_uuid": "8f2839f25d086af736a60e9eeb907d3b93b6e0e5",
    "execution": {
     "iopub.execute_input": "2024-07-20T09:39:23.591682Z",
     "iopub.status.busy": "2024-07-20T09:39:23.591248Z",
     "iopub.status.idle": "2024-07-20T09:39:24.502692Z",
     "shell.execute_reply": "2024-07-20T09:39:24.501411Z"
    },
    "papermill": {
     "duration": 0.924038,
     "end_time": "2024-07-20T09:39:24.505430",
     "exception": false,
     "start_time": "2024-07-20T09:39:23.581392",
     "status": "completed"
    },
    "tags": []
   },
   "outputs": [
    {
     "ename": "ModuleNotFoundError",
     "evalue": "No module named 'numpy'",
     "output_type": "error",
     "traceback": [
      "\u001b[1;31m---------------------------------------------------------------------------\u001b[0m",
      "\u001b[1;31mModuleNotFoundError\u001b[0m                       Traceback (most recent call last)",
      "Cell \u001b[1;32mIn[1], line 5\u001b[0m\n\u001b[0;32m      1\u001b[0m \u001b[38;5;66;03m# This Python 3 environment comes with many helpful analytics libraries installed\u001b[39;00m\n\u001b[0;32m      2\u001b[0m \u001b[38;5;66;03m# It is defined by the kaggle/python Docker image: https://github.com/kaggle/docker-python\u001b[39;00m\n\u001b[0;32m      3\u001b[0m \u001b[38;5;66;03m# For example, here's several helpful packages to load\u001b[39;00m\n\u001b[1;32m----> 5\u001b[0m \u001b[38;5;28;01mimport\u001b[39;00m \u001b[38;5;21;01mnumpy\u001b[39;00m \u001b[38;5;28;01mas\u001b[39;00m \u001b[38;5;21;01mnp\u001b[39;00m \u001b[38;5;66;03m# linear algebra\u001b[39;00m\n\u001b[0;32m      6\u001b[0m \u001b[38;5;28;01mimport\u001b[39;00m \u001b[38;5;21;01mpandas\u001b[39;00m \u001b[38;5;28;01mas\u001b[39;00m \u001b[38;5;21;01mpd\u001b[39;00m \u001b[38;5;66;03m# data processing, CSV file I/O (e.g. pd.read_csv)\u001b[39;00m\n\u001b[0;32m      8\u001b[0m \u001b[38;5;66;03m# Input data files are available in the read-only \"../input/\" directory\u001b[39;00m\n\u001b[0;32m      9\u001b[0m \u001b[38;5;66;03m# For example, running this (by clicking run or pressing Shift+Enter) will list all files under the input directory\u001b[39;00m\n",
      "\u001b[1;31mModuleNotFoundError\u001b[0m: No module named 'numpy'"
     ]
    }
   ],
   "source": [
    "# This Python 3 environment comes with many helpful analytics libraries installed\n",
    "# It is defined by the kaggle/python Docker image: https://github.com/kaggle/docker-python\n",
    "# For example, here's several helpful packages to load\n",
    "\n",
    "import numpy as np # linear algebra\n",
    "import pandas as pd # data processing, CSV file I/O (e.g. pd.read_csv)\n",
    "\n",
    "# Input data files are available in the read-only \"../input/\" directory\n",
    "# For example, running this (by clicking run or pressing Shift+Enter) will list all files under the input directory\n",
    "\n",
    "import os\n",
    "for dirname, _, filenames in os.walk('/kaggle/input'):\n",
    "    for filename in filenames:\n",
    "        print(os.path.join(dirname, filename))\n",
    "\n",
    "# You can write up to 20GB to the current directory (/kaggle/working/) that gets preserved as output when you create a version using \"Save & Run All\" \n",
    "# You can also write temporary files to /kaggle/temp/, but they won't be saved outside of the current session"
   ]
  },
  {
   "cell_type": "code",
   "execution_count": null,
   "id": "861ccd05",
   "metadata": {
    "execution": {
     "iopub.execute_input": "2024-07-20T09:39:24.523920Z",
     "iopub.status.busy": "2024-07-20T09:39:24.522911Z",
     "iopub.status.idle": "2024-07-20T09:39:28.351056Z",
     "shell.execute_reply": "2024-07-20T09:39:28.350103Z"
    },
    "papermill": {
     "duration": 3.839891,
     "end_time": "2024-07-20T09:39:28.353559",
     "exception": false,
     "start_time": "2024-07-20T09:39:24.513668",
     "status": "completed"
    },
    "tags": []
   },
   "outputs": [],
   "source": [
    "df = pd.read_csv('/kaggle/input/creditcardfraud/creditcard.csv')"
   ]
  },
  {
   "cell_type": "code",
   "execution_count": null,
   "id": "5e1db540",
   "metadata": {
    "execution": {
     "iopub.execute_input": "2024-07-20T09:39:28.371535Z",
     "iopub.status.busy": "2024-07-20T09:39:28.371074Z",
     "iopub.status.idle": "2024-07-20T09:39:30.145091Z",
     "shell.execute_reply": "2024-07-20T09:39:30.143488Z"
    },
    "papermill": {
     "duration": 1.786612,
     "end_time": "2024-07-20T09:39:30.148163",
     "exception": false,
     "start_time": "2024-07-20T09:39:28.361551",
     "status": "completed"
    },
    "tags": []
   },
   "outputs": [],
   "source": [
    "# Libraries\n",
    "from imblearn.under_sampling import RandomUnderSampler\n",
    "from sklearn.model_selection import train_test_split\n",
    "rus = RandomUnderSampler(random_state=42)"
   ]
  },
  {
   "cell_type": "code",
   "execution_count": null,
   "id": "5484709b",
   "metadata": {
    "execution": {
     "iopub.execute_input": "2024-07-20T09:39:30.166628Z",
     "iopub.status.busy": "2024-07-20T09:39:30.166080Z",
     "iopub.status.idle": "2024-07-20T09:39:30.170938Z",
     "shell.execute_reply": "2024-07-20T09:39:30.169876Z"
    },
    "papermill": {
     "duration": 0.016667,
     "end_time": "2024-07-20T09:39:30.173265",
     "exception": false,
     "start_time": "2024-07-20T09:39:30.156598",
     "status": "completed"
    },
    "tags": []
   },
   "outputs": [],
   "source": [
    "# df.head()"
   ]
  },
  {
   "cell_type": "code",
   "execution_count": null,
   "id": "9baa9a3c",
   "metadata": {
    "execution": {
     "iopub.execute_input": "2024-07-20T09:39:30.190690Z",
     "iopub.status.busy": "2024-07-20T09:39:30.190282Z",
     "iopub.status.idle": "2024-07-20T09:39:30.241457Z",
     "shell.execute_reply": "2024-07-20T09:39:30.240354Z"
    },
    "papermill": {
     "duration": 0.062814,
     "end_time": "2024-07-20T09:39:30.244067",
     "exception": false,
     "start_time": "2024-07-20T09:39:30.181253",
     "status": "completed"
    },
    "tags": []
   },
   "outputs": [],
   "source": [
    "df.drop(columns='Time',inplace=True)"
   ]
  },
  {
   "cell_type": "code",
   "execution_count": null,
   "id": "a065722b",
   "metadata": {
    "execution": {
     "iopub.execute_input": "2024-07-20T09:39:30.261870Z",
     "iopub.status.busy": "2024-07-20T09:39:30.261509Z",
     "iopub.status.idle": "2024-07-20T09:39:30.293866Z",
     "shell.execute_reply": "2024-07-20T09:39:30.292617Z"
    },
    "papermill": {
     "duration": 0.04397,
     "end_time": "2024-07-20T09:39:30.296171",
     "exception": false,
     "start_time": "2024-07-20T09:39:30.252201",
     "status": "completed"
    },
    "tags": []
   },
   "outputs": [
    {
     "data": {
      "text/html": [
       "<div>\n",
       "<style scoped>\n",
       "    .dataframe tbody tr th:only-of-type {\n",
       "        vertical-align: middle;\n",
       "    }\n",
       "\n",
       "    .dataframe tbody tr th {\n",
       "        vertical-align: top;\n",
       "    }\n",
       "\n",
       "    .dataframe thead th {\n",
       "        text-align: right;\n",
       "    }\n",
       "</style>\n",
       "<table border=\"1\" class=\"dataframe\">\n",
       "  <thead>\n",
       "    <tr style=\"text-align: right;\">\n",
       "      <th></th>\n",
       "      <th>V1</th>\n",
       "      <th>V2</th>\n",
       "      <th>V3</th>\n",
       "      <th>V4</th>\n",
       "      <th>V5</th>\n",
       "      <th>V6</th>\n",
       "      <th>V7</th>\n",
       "      <th>V8</th>\n",
       "      <th>V9</th>\n",
       "      <th>V10</th>\n",
       "      <th>...</th>\n",
       "      <th>V21</th>\n",
       "      <th>V22</th>\n",
       "      <th>V23</th>\n",
       "      <th>V24</th>\n",
       "      <th>V25</th>\n",
       "      <th>V26</th>\n",
       "      <th>V27</th>\n",
       "      <th>V28</th>\n",
       "      <th>Amount</th>\n",
       "      <th>Class</th>\n",
       "    </tr>\n",
       "  </thead>\n",
       "  <tbody>\n",
       "    <tr>\n",
       "      <th>0</th>\n",
       "      <td>-1.359807</td>\n",
       "      <td>-0.072781</td>\n",
       "      <td>2.536347</td>\n",
       "      <td>1.378155</td>\n",
       "      <td>-0.338321</td>\n",
       "      <td>0.462388</td>\n",
       "      <td>0.239599</td>\n",
       "      <td>0.098698</td>\n",
       "      <td>0.363787</td>\n",
       "      <td>0.090794</td>\n",
       "      <td>...</td>\n",
       "      <td>-0.018307</td>\n",
       "      <td>0.277838</td>\n",
       "      <td>-0.110474</td>\n",
       "      <td>0.066928</td>\n",
       "      <td>0.128539</td>\n",
       "      <td>-0.189115</td>\n",
       "      <td>0.133558</td>\n",
       "      <td>-0.021053</td>\n",
       "      <td>149.62</td>\n",
       "      <td>0</td>\n",
       "    </tr>\n",
       "    <tr>\n",
       "      <th>1</th>\n",
       "      <td>1.191857</td>\n",
       "      <td>0.266151</td>\n",
       "      <td>0.166480</td>\n",
       "      <td>0.448154</td>\n",
       "      <td>0.060018</td>\n",
       "      <td>-0.082361</td>\n",
       "      <td>-0.078803</td>\n",
       "      <td>0.085102</td>\n",
       "      <td>-0.255425</td>\n",
       "      <td>-0.166974</td>\n",
       "      <td>...</td>\n",
       "      <td>-0.225775</td>\n",
       "      <td>-0.638672</td>\n",
       "      <td>0.101288</td>\n",
       "      <td>-0.339846</td>\n",
       "      <td>0.167170</td>\n",
       "      <td>0.125895</td>\n",
       "      <td>-0.008983</td>\n",
       "      <td>0.014724</td>\n",
       "      <td>2.69</td>\n",
       "      <td>0</td>\n",
       "    </tr>\n",
       "    <tr>\n",
       "      <th>2</th>\n",
       "      <td>-1.358354</td>\n",
       "      <td>-1.340163</td>\n",
       "      <td>1.773209</td>\n",
       "      <td>0.379780</td>\n",
       "      <td>-0.503198</td>\n",
       "      <td>1.800499</td>\n",
       "      <td>0.791461</td>\n",
       "      <td>0.247676</td>\n",
       "      <td>-1.514654</td>\n",
       "      <td>0.207643</td>\n",
       "      <td>...</td>\n",
       "      <td>0.247998</td>\n",
       "      <td>0.771679</td>\n",
       "      <td>0.909412</td>\n",
       "      <td>-0.689281</td>\n",
       "      <td>-0.327642</td>\n",
       "      <td>-0.139097</td>\n",
       "      <td>-0.055353</td>\n",
       "      <td>-0.059752</td>\n",
       "      <td>378.66</td>\n",
       "      <td>0</td>\n",
       "    </tr>\n",
       "    <tr>\n",
       "      <th>3</th>\n",
       "      <td>-0.966272</td>\n",
       "      <td>-0.185226</td>\n",
       "      <td>1.792993</td>\n",
       "      <td>-0.863291</td>\n",
       "      <td>-0.010309</td>\n",
       "      <td>1.247203</td>\n",
       "      <td>0.237609</td>\n",
       "      <td>0.377436</td>\n",
       "      <td>-1.387024</td>\n",
       "      <td>-0.054952</td>\n",
       "      <td>...</td>\n",
       "      <td>-0.108300</td>\n",
       "      <td>0.005274</td>\n",
       "      <td>-0.190321</td>\n",
       "      <td>-1.175575</td>\n",
       "      <td>0.647376</td>\n",
       "      <td>-0.221929</td>\n",
       "      <td>0.062723</td>\n",
       "      <td>0.061458</td>\n",
       "      <td>123.50</td>\n",
       "      <td>0</td>\n",
       "    </tr>\n",
       "    <tr>\n",
       "      <th>4</th>\n",
       "      <td>-1.158233</td>\n",
       "      <td>0.877737</td>\n",
       "      <td>1.548718</td>\n",
       "      <td>0.403034</td>\n",
       "      <td>-0.407193</td>\n",
       "      <td>0.095921</td>\n",
       "      <td>0.592941</td>\n",
       "      <td>-0.270533</td>\n",
       "      <td>0.817739</td>\n",
       "      <td>0.753074</td>\n",
       "      <td>...</td>\n",
       "      <td>-0.009431</td>\n",
       "      <td>0.798278</td>\n",
       "      <td>-0.137458</td>\n",
       "      <td>0.141267</td>\n",
       "      <td>-0.206010</td>\n",
       "      <td>0.502292</td>\n",
       "      <td>0.219422</td>\n",
       "      <td>0.215153</td>\n",
       "      <td>69.99</td>\n",
       "      <td>0</td>\n",
       "    </tr>\n",
       "  </tbody>\n",
       "</table>\n",
       "<p>5 rows × 30 columns</p>\n",
       "</div>"
      ],
      "text/plain": [
       "         V1        V2        V3        V4        V5        V6        V7  \\\n",
       "0 -1.359807 -0.072781  2.536347  1.378155 -0.338321  0.462388  0.239599   \n",
       "1  1.191857  0.266151  0.166480  0.448154  0.060018 -0.082361 -0.078803   \n",
       "2 -1.358354 -1.340163  1.773209  0.379780 -0.503198  1.800499  0.791461   \n",
       "3 -0.966272 -0.185226  1.792993 -0.863291 -0.010309  1.247203  0.237609   \n",
       "4 -1.158233  0.877737  1.548718  0.403034 -0.407193  0.095921  0.592941   \n",
       "\n",
       "         V8        V9       V10  ...       V21       V22       V23       V24  \\\n",
       "0  0.098698  0.363787  0.090794  ... -0.018307  0.277838 -0.110474  0.066928   \n",
       "1  0.085102 -0.255425 -0.166974  ... -0.225775 -0.638672  0.101288 -0.339846   \n",
       "2  0.247676 -1.514654  0.207643  ...  0.247998  0.771679  0.909412 -0.689281   \n",
       "3  0.377436 -1.387024 -0.054952  ... -0.108300  0.005274 -0.190321 -1.175575   \n",
       "4 -0.270533  0.817739  0.753074  ... -0.009431  0.798278 -0.137458  0.141267   \n",
       "\n",
       "        V25       V26       V27       V28  Amount  Class  \n",
       "0  0.128539 -0.189115  0.133558 -0.021053  149.62      0  \n",
       "1  0.167170  0.125895 -0.008983  0.014724    2.69      0  \n",
       "2 -0.327642 -0.139097 -0.055353 -0.059752  378.66      0  \n",
       "3  0.647376 -0.221929  0.062723  0.061458  123.50      0  \n",
       "4 -0.206010  0.502292  0.219422  0.215153   69.99      0  \n",
       "\n",
       "[5 rows x 30 columns]"
      ]
     },
     "execution_count": 6,
     "metadata": {},
     "output_type": "execute_result"
    }
   ],
   "source": [
    "df.head()"
   ]
  },
  {
   "cell_type": "code",
   "execution_count": null,
   "id": "4d671389",
   "metadata": {
    "execution": {
     "iopub.execute_input": "2024-07-20T09:39:30.315540Z",
     "iopub.status.busy": "2024-07-20T09:39:30.314842Z",
     "iopub.status.idle": "2024-07-20T09:39:30.332588Z",
     "shell.execute_reply": "2024-07-20T09:39:30.331361Z"
    },
    "papermill": {
     "duration": 0.030477,
     "end_time": "2024-07-20T09:39:30.334929",
     "exception": false,
     "start_time": "2024-07-20T09:39:30.304452",
     "status": "completed"
    },
    "tags": []
   },
   "outputs": [
    {
     "data": {
      "text/plain": [
       "Class\n",
       "0    284315\n",
       "1       492\n",
       "Name: count, dtype: int64"
      ]
     },
     "execution_count": 7,
     "metadata": {},
     "output_type": "execute_result"
    }
   ],
   "source": [
    "# 0 -> Legit\n",
    "# 1 -> Fraud\n",
    "df['Class'].value_counts()"
   ]
  },
  {
   "cell_type": "code",
   "execution_count": null,
   "id": "83edf4a2",
   "metadata": {
    "execution": {
     "iopub.execute_input": "2024-07-20T09:39:30.354801Z",
     "iopub.status.busy": "2024-07-20T09:39:30.354437Z",
     "iopub.status.idle": "2024-07-20T09:39:30.359133Z",
     "shell.execute_reply": "2024-07-20T09:39:30.357972Z"
    },
    "papermill": {
     "duration": 0.016928,
     "end_time": "2024-07-20T09:39:30.361357",
     "exception": false,
     "start_time": "2024-07-20T09:39:30.344429",
     "status": "completed"
    },
    "tags": []
   },
   "outputs": [],
   "source": [
    "# Class Imbalance Ratio\n",
    "# Random Oversampling\n",
    "# Random UnderSampling"
   ]
  },
  {
   "cell_type": "code",
   "execution_count": null,
   "id": "1d922e34",
   "metadata": {
    "execution": {
     "iopub.execute_input": "2024-07-20T09:39:30.380112Z",
     "iopub.status.busy": "2024-07-20T09:39:30.379709Z",
     "iopub.status.idle": "2024-07-20T09:39:30.648815Z",
     "shell.execute_reply": "2024-07-20T09:39:30.647734Z"
    },
    "papermill": {
     "duration": 0.281904,
     "end_time": "2024-07-20T09:39:30.651768",
     "exception": false,
     "start_time": "2024-07-20T09:39:30.369864",
     "status": "completed"
    },
    "tags": []
   },
   "outputs": [
    {
     "data": {
      "text/plain": [
       "<Axes: xlabel='Class'>"
      ]
     },
     "execution_count": 9,
     "metadata": {},
     "output_type": "execute_result"
    },
    {
     "data": {
      "image/png": "[encoded data removed]",
      "text/plain": [
       "<Figure size 640x480 with 1 Axes>"
      ]
     },
     "metadata": {},
     "output_type": "display_data"
    }
   ],
   "source": [
    "# class ratio before overdsampling\n",
    "df['Class'].value_counts().plot(kind='bar')"
   ]
  },
  {
   "cell_type": "code",
   "execution_count": null,
   "id": "02c09c07",
   "metadata": {
    "execution": {
     "iopub.execute_input": "2024-07-20T09:39:30.670981Z",
     "iopub.status.busy": "2024-07-20T09:39:30.670608Z",
     "iopub.status.idle": "2024-07-20T09:39:30.701609Z",
     "shell.execute_reply": "2024-07-20T09:39:30.700437Z"
    },
    "papermill": {
     "duration": 0.043616,
     "end_time": "2024-07-20T09:39:30.704292",
     "exception": false,
     "start_time": "2024-07-20T09:39:30.660676",
     "status": "completed"
    },
    "tags": []
   },
   "outputs": [],
   "source": [
    "X = df.drop(columns='Class')\n",
    "Y = df['Class']"
   ]
  },
  {
   "cell_type": "code",
   "execution_count": null,
   "id": "fbd0afb0",
   "metadata": {
    "execution": {
     "iopub.execute_input": "2024-07-20T09:39:30.724009Z",
     "iopub.status.busy": "2024-07-20T09:39:30.723633Z",
     "iopub.status.idle": "2024-07-20T09:39:30.801955Z",
     "shell.execute_reply": "2024-07-20T09:39:30.800311Z"
    },
    "papermill": {
     "duration": 0.092149,
     "end_time": "2024-07-20T09:39:30.805318",
     "exception": false,
     "start_time": "2024-07-20T09:39:30.713169",
     "status": "completed"
    },
    "tags": []
   },
   "outputs": [
    {
     "data": {
      "text/html": [
       "<div>\n",
       "<style scoped>\n",
       "    .dataframe tbody tr th:only-of-type {\n",
       "        vertical-align: middle;\n",
       "    }\n",
       "\n",
       "    .dataframe tbody tr th {\n",
       "        vertical-align: top;\n",
       "    }\n",
       "\n",
       "    .dataframe thead th {\n",
       "        text-align: right;\n",
       "    }\n",
       "</style>\n",
       "<table border=\"1\" class=\"dataframe\">\n",
       "  <thead>\n",
       "    <tr style=\"text-align: right;\">\n",
       "      <th></th>\n",
       "      <th>V1</th>\n",
       "      <th>V2</th>\n",
       "      <th>V3</th>\n",
       "      <th>V4</th>\n",
       "      <th>V5</th>\n",
       "      <th>V6</th>\n",
       "      <th>V7</th>\n",
       "      <th>V8</th>\n",
       "      <th>V9</th>\n",
       "      <th>V10</th>\n",
       "      <th>...</th>\n",
       "      <th>V20</th>\n",
       "      <th>V21</th>\n",
       "      <th>V22</th>\n",
       "      <th>V23</th>\n",
       "      <th>V24</th>\n",
       "      <th>V25</th>\n",
       "      <th>V26</th>\n",
       "      <th>V27</th>\n",
       "      <th>V28</th>\n",
       "      <th>Amount</th>\n",
       "    </tr>\n",
       "  </thead>\n",
       "  <tbody>\n",
       "    <tr>\n",
       "      <th>0</th>\n",
       "      <td>-1.359807</td>\n",
       "      <td>-0.072781</td>\n",
       "      <td>2.536347</td>\n",
       "      <td>1.378155</td>\n",
       "      <td>-0.338321</td>\n",
       "      <td>0.462388</td>\n",
       "      <td>0.239599</td>\n",
       "      <td>0.098698</td>\n",
       "      <td>0.363787</td>\n",
       "      <td>0.090794</td>\n",
       "      <td>...</td>\n",
       "      <td>0.251412</td>\n",
       "      <td>-0.018307</td>\n",
       "      <td>0.277838</td>\n",
       "      <td>-0.110474</td>\n",
       "      <td>0.066928</td>\n",
       "      <td>0.128539</td>\n",
       "      <td>-0.189115</td>\n",
       "      <td>0.133558</td>\n",
       "      <td>-0.021053</td>\n",
       "      <td>149.62</td>\n",
       "    </tr>\n",
       "    <tr>\n",
       "      <th>1</th>\n",
       "      <td>1.191857</td>\n",
       "      <td>0.266151</td>\n",
       "      <td>0.166480</td>\n",
       "      <td>0.448154</td>\n",
       "      <td>0.060018</td>\n",
       "      <td>-0.082361</td>\n",
       "      <td>-0.078803</td>\n",
       "      <td>0.085102</td>\n",
       "      <td>-0.255425</td>\n",
       "      <td>-0.166974</td>\n",
       "      <td>...</td>\n",
       "      <td>-0.069083</td>\n",
       "      <td>-0.225775</td>\n",
       "      <td>-0.638672</td>\n",
       "      <td>0.101288</td>\n",
       "      <td>-0.339846</td>\n",
       "      <td>0.167170</td>\n",
       "      <td>0.125895</td>\n",
       "      <td>-0.008983</td>\n",
       "      <td>0.014724</td>\n",
       "      <td>2.69</td>\n",
       "    </tr>\n",
       "    <tr>\n",
       "      <th>2</th>\n",
       "      <td>-1.358354</td>\n",
       "      <td>-1.340163</td>\n",
       "      <td>1.773209</td>\n",
       "      <td>0.379780</td>\n",
       "      <td>-0.503198</td>\n",
       "      <td>1.800499</td>\n",
       "      <td>0.791461</td>\n",
       "      <td>0.247676</td>\n",
       "      <td>-1.514654</td>\n",
       "      <td>0.207643</td>\n",
       "      <td>...</td>\n",
       "      <td>0.524980</td>\n",
       "      <td>0.247998</td>\n",
       "      <td>0.771679</td>\n",
       "      <td>0.909412</td>\n",
       "      <td>-0.689281</td>\n",
       "      <td>-0.327642</td>\n",
       "      <td>-0.139097</td>\n",
       "      <td>-0.055353</td>\n",
       "      <td>-0.059752</td>\n",
       "      <td>378.66</td>\n",
       "    </tr>\n",
       "    <tr>\n",
       "      <th>3</th>\n",
       "      <td>-0.966272</td>\n",
       "      <td>-0.185226</td>\n",
       "      <td>1.792993</td>\n",
       "      <td>-0.863291</td>\n",
       "      <td>-0.010309</td>\n",
       "      <td>1.247203</td>\n",
       "      <td>0.237609</td>\n",
       "      <td>0.377436</td>\n",
       "      <td>-1.387024</td>\n",
       "      <td>-0.054952</td>\n",
       "      <td>...</td>\n",
       "      <td>-0.208038</td>\n",
       "      <td>-0.108300</td>\n",
       "      <td>0.005274</td>\n",
       "      <td>-0.190321</td>\n",
       "      <td>-1.175575</td>\n",
       "      <td>0.647376</td>\n",
       "      <td>-0.221929</td>\n",
       "      <td>0.062723</td>\n",
       "      <td>0.061458</td>\n",
       "      <td>123.50</td>\n",
       "    </tr>\n",
       "    <tr>\n",
       "      <th>4</th>\n",
       "      <td>-1.158233</td>\n",
       "      <td>0.877737</td>\n",
       "      <td>1.548718</td>\n",
       "      <td>0.403034</td>\n",
       "      <td>-0.407193</td>\n",
       "      <td>0.095921</td>\n",
       "      <td>0.592941</td>\n",
       "      <td>-0.270533</td>\n",
       "      <td>0.817739</td>\n",
       "      <td>0.753074</td>\n",
       "      <td>...</td>\n",
       "      <td>0.408542</td>\n",
       "      <td>-0.009431</td>\n",
       "      <td>0.798278</td>\n",
       "      <td>-0.137458</td>\n",
       "      <td>0.141267</td>\n",
       "      <td>-0.206010</td>\n",
       "      <td>0.502292</td>\n",
       "      <td>0.219422</td>\n",
       "      <td>0.215153</td>\n",
       "      <td>69.99</td>\n",
       "    </tr>\n",
       "    <tr>\n",
       "      <th>...</th>\n",
       "      <td>...</td>\n",
       "      <td>...</td>\n",
       "      <td>...</td>\n",
       "      <td>...</td>\n",
       "      <td>...</td>\n",
       "      <td>...</td>\n",
       "      <td>...</td>\n",
       "      <td>...</td>\n",
       "      <td>...</td>\n",
       "      <td>...</td>\n",
       "      <td>...</td>\n",
       "      <td>...</td>\n",
       "      <td>...</td>\n",
       "      <td>...</td>\n",
       "      <td>...</td>\n",
       "      <td>...</td>\n",
       "      <td>...</td>\n",
       "      <td>...</td>\n",
       "      <td>...</td>\n",
       "      <td>...</td>\n",
       "      <td>...</td>\n",
       "    </tr>\n",
       "    <tr>\n",
       "      <th>284802</th>\n",
       "      <td>-11.881118</td>\n",
       "      <td>10.071785</td>\n",
       "      <td>-9.834783</td>\n",
       "      <td>-2.066656</td>\n",
       "      <td>-5.364473</td>\n",
       "      <td>-2.606837</td>\n",
       "      <td>-4.918215</td>\n",
       "      <td>7.305334</td>\n",
       "      <td>1.914428</td>\n",
       "      <td>4.356170</td>\n",
       "      <td>...</td>\n",
       "      <td>1.475829</td>\n",
       "      <td>0.213454</td>\n",
       "      <td>0.111864</td>\n",
       "      <td>1.014480</td>\n",
       "      <td>-0.509348</td>\n",
       "      <td>1.436807</td>\n",
       "      <td>0.250034</td>\n",
       "      <td>0.943651</td>\n",
       "      <td>0.823731</td>\n",
       "      <td>0.77</td>\n",
       "    </tr>\n",
       "    <tr>\n",
       "      <th>284803</th>\n",
       "      <td>-0.732789</td>\n",
       "      <td>-0.055080</td>\n",
       "      <td>2.035030</td>\n",
       "      <td>-0.738589</td>\n",
       "      <td>0.868229</td>\n",
       "      <td>1.058415</td>\n",
       "      <td>0.024330</td>\n",
       "      <td>0.294869</td>\n",
       "      <td>0.584800</td>\n",
       "      <td>-0.975926</td>\n",
       "      <td>...</td>\n",
       "      <td>0.059616</td>\n",
       "      <td>0.214205</td>\n",
       "      <td>0.924384</td>\n",
       "      <td>0.012463</td>\n",
       "      <td>-1.016226</td>\n",
       "      <td>-0.606624</td>\n",
       "      <td>-0.395255</td>\n",
       "      <td>0.068472</td>\n",
       "      <td>-0.053527</td>\n",
       "      <td>24.79</td>\n",
       "    </tr>\n",
       "    <tr>\n",
       "      <th>284804</th>\n",
       "      <td>1.919565</td>\n",
       "      <td>-0.301254</td>\n",
       "      <td>-3.249640</td>\n",
       "      <td>-0.557828</td>\n",
       "      <td>2.630515</td>\n",
       "      <td>3.031260</td>\n",
       "      <td>-0.296827</td>\n",
       "      <td>0.708417</td>\n",
       "      <td>0.432454</td>\n",
       "      <td>-0.484782</td>\n",
       "      <td>...</td>\n",
       "      <td>0.001396</td>\n",
       "      <td>0.232045</td>\n",
       "      <td>0.578229</td>\n",
       "      <td>-0.037501</td>\n",
       "      <td>0.640134</td>\n",
       "      <td>0.265745</td>\n",
       "      <td>-0.087371</td>\n",
       "      <td>0.004455</td>\n",
       "      <td>-0.026561</td>\n",
       "      <td>67.88</td>\n",
       "    </tr>\n",
       "    <tr>\n",
       "      <th>284805</th>\n",
       "      <td>-0.240440</td>\n",
       "      <td>0.530483</td>\n",
       "      <td>0.702510</td>\n",
       "      <td>0.689799</td>\n",
       "      <td>-0.377961</td>\n",
       "      <td>0.623708</td>\n",
       "      <td>-0.686180</td>\n",
       "      <td>0.679145</td>\n",
       "      <td>0.392087</td>\n",
       "      <td>-0.399126</td>\n",
       "      <td>...</td>\n",
       "      <td>0.127434</td>\n",
       "      <td>0.265245</td>\n",
       "      <td>0.800049</td>\n",
       "      <td>-0.163298</td>\n",
       "      <td>0.123205</td>\n",
       "      <td>-0.569159</td>\n",
       "      <td>0.546668</td>\n",
       "      <td>0.108821</td>\n",
       "      <td>0.104533</td>\n",
       "      <td>10.00</td>\n",
       "    </tr>\n",
       "    <tr>\n",
       "      <th>284806</th>\n",
       "      <td>-0.533413</td>\n",
       "      <td>-0.189733</td>\n",
       "      <td>0.703337</td>\n",
       "      <td>-0.506271</td>\n",
       "      <td>-0.012546</td>\n",
       "      <td>-0.649617</td>\n",
       "      <td>1.577006</td>\n",
       "      <td>-0.414650</td>\n",
       "      <td>0.486180</td>\n",
       "      <td>-0.915427</td>\n",
       "      <td>...</td>\n",
       "      <td>0.382948</td>\n",
       "      <td>0.261057</td>\n",
       "      <td>0.643078</td>\n",
       "      <td>0.376777</td>\n",
       "      <td>0.008797</td>\n",
       "      <td>-0.473649</td>\n",
       "      <td>-0.818267</td>\n",
       "      <td>-0.002415</td>\n",
       "      <td>0.013649</td>\n",
       "      <td>217.00</td>\n",
       "    </tr>\n",
       "  </tbody>\n",
       "</table>\n",
       "<p>284807 rows × 29 columns</p>\n",
       "</div>"
      ],
      "text/plain": [
       "               V1         V2        V3        V4        V5        V6  \\\n",
       "0       -1.359807  -0.072781  2.536347  1.378155 -0.338321  0.462388   \n",
       "1        1.191857   0.266151  0.166480  0.448154  0.060018 -0.082361   \n",
       "2       -1.358354  -1.340163  1.773209  0.379780 -0.503198  1.800499   \n",
       "3       -0.966272  -0.185226  1.792993 -0.863291 -0.010309  1.247203   \n",
       "4       -1.158233   0.877737  1.548718  0.403034 -0.407193  0.095921   \n",
       "...           ...        ...       ...       ...       ...       ...   \n",
       "284802 -11.881118  10.071785 -9.834783 -2.066656 -5.364473 -2.606837   \n",
       "284803  -0.732789  -0.055080  2.035030 -0.738589  0.868229  1.058415   \n",
       "284804   1.919565  -0.301254 -3.249640 -0.557828  2.630515  3.031260   \n",
       "284805  -0.240440   0.530483  0.702510  0.689799 -0.377961  0.623708   \n",
       "284806  -0.533413  -0.189733  0.703337 -0.506271 -0.012546 -0.649617   \n",
       "\n",
       "              V7        V8        V9       V10  ...       V20       V21  \\\n",
       "0       0.239599  0.098698  0.363787  0.090794  ...  0.251412 -0.018307   \n",
       "1      -0.078803  0.085102 -0.255425 -0.166974  ... -0.069083 -0.225775   \n",
       "2       0.791461  0.247676 -1.514654  0.207643  ...  0.524980  0.247998   \n",
       "3       0.237609  0.377436 -1.387024 -0.054952  ... -0.208038 -0.108300   \n",
       "4       0.592941 -0.270533  0.817739  0.753074  ...  0.408542 -0.009431   \n",
       "...          ...       ...       ...       ...  ...       ...       ...   \n",
       "284802 -4.918215  7.305334  1.914428  4.356170  ...  1.475829  0.213454   \n",
       "284803  0.024330  0.294869  0.584800 -0.975926  ...  0.059616  0.214205   \n",
       "284804 -0.296827  0.708417  0.432454 -0.484782  ...  0.001396  0.232045   \n",
       "284805 -0.686180  0.679145  0.392087 -0.399126  ...  0.127434  0.265245   \n",
       "284806  1.577006 -0.414650  0.486180 -0.915427  ...  0.382948  0.261057   \n",
       "\n",
       "             V22       V23       V24       V25       V26       V27       V28  \\\n",
       "0       0.277838 -0.110474  0.066928  0.128539 -0.189115  0.133558 -0.021053   \n",
       "1      -0.638672  0.101288 -0.339846  0.167170  0.125895 -0.008983  0.014724   \n",
       "2       0.771679  0.909412 -0.689281 -0.327642 -0.139097 -0.055353 -0.059752   \n",
       "3       0.005274 -0.190321 -1.175575  0.647376 -0.221929  0.062723  0.061458   \n",
       "4       0.798278 -0.137458  0.141267 -0.206010  0.502292  0.219422  0.215153   \n",
       "...          ...       ...       ...       ...       ...       ...       ...   \n",
       "284802  0.111864  1.014480 -0.509348  1.436807  0.250034  0.943651  0.823731   \n",
       "284803  0.924384  0.012463 -1.016226 -0.606624 -0.395255  0.068472 -0.053527   \n",
       "284804  0.578229 -0.037501  0.640134  0.265745 -0.087371  0.004455 -0.026561   \n",
       "284805  0.800049 -0.163298  0.123205 -0.569159  0.546668  0.108821  0.104533   \n",
       "284806  0.643078  0.376777  0.008797 -0.473649 -0.818267 -0.002415  0.013649   \n",
       "\n",
       "        Amount  \n",
       "0       149.62  \n",
       "1         2.69  \n",
       "2       378.66  \n",
       "3       123.50  \n",
       "4        69.99  \n",
       "...        ...  \n",
       "284802    0.77  \n",
       "284803   24.79  \n",
       "284804   67.88  \n",
       "284805   10.00  \n",
       "284806  217.00  \n",
       "\n",
       "[284807 rows x 29 columns]"
      ]
     },
     "execution_count": 11,
     "metadata": {},
     "output_type": "execute_result"
    }
   ],
   "source": [
    "X"
   ]
  },
  {
   "cell_type": "code",
   "execution_count": null,
   "id": "dbe90742",
   "metadata": {
    "execution": {
     "iopub.execute_input": "2024-07-20T09:39:30.827167Z",
     "iopub.status.busy": "2024-07-20T09:39:30.826119Z",
     "iopub.status.idle": "2024-07-20T09:39:30.903528Z",
     "shell.execute_reply": "2024-07-20T09:39:30.902458Z"
    },
    "papermill": {
     "duration": 0.091439,
     "end_time": "2024-07-20T09:39:30.906149",
     "exception": false,
     "start_time": "2024-07-20T09:39:30.814710",
     "status": "completed"
    },
    "tags": []
   },
   "outputs": [],
   "source": [
    "X_resampled, y_resampled = rus.fit_resample(X, Y)"
   ]
  },
  {
   "cell_type": "code",
   "execution_count": null,
   "id": "80b05a49",
   "metadata": {
    "execution": {
     "iopub.execute_input": "2024-07-20T09:39:30.927641Z",
     "iopub.status.busy": "2024-07-20T09:39:30.927048Z",
     "iopub.status.idle": "2024-07-20T09:39:31.148298Z",
     "shell.execute_reply": "2024-07-20T09:39:31.147248Z"
    },
    "papermill": {
     "duration": 0.235239,
     "end_time": "2024-07-20T09:39:31.150648",
     "exception": false,
     "start_time": "2024-07-20T09:39:30.915409",
     "status": "completed"
    },
    "tags": []
   },
   "outputs": [
    {
     "data": {
      "text/plain": [
       "<Axes: xlabel='Class'>"
      ]
     },
     "execution_count": 13,
     "metadata": {},
     "output_type": "execute_result"
    },
    {
     "data": {
      "image/png": "[encoded data removed]",
      "text/plain": [
       "<Figure size 640x480 with 1 Axes>"
      ]
     },
     "metadata": {},
     "output_type": "display_data"
    }
   ],
   "source": [
    "y_resampled.value_counts().plot(kind='bar')"
   ]
  },
  {
   "cell_type": "code",
   "execution_count": null,
   "id": "c70618be",
   "metadata": {
    "execution": {
     "iopub.execute_input": "2024-07-20T09:39:31.172048Z",
     "iopub.status.busy": "2024-07-20T09:39:31.171683Z",
     "iopub.status.idle": "2024-07-20T09:39:31.195603Z",
     "shell.execute_reply": "2024-07-20T09:39:31.194202Z"
    },
    "papermill": {
     "duration": 0.037635,
     "end_time": "2024-07-20T09:39:31.198275",
     "exception": false,
     "start_time": "2024-07-20T09:39:31.160640",
     "status": "completed"
    },
    "tags": []
   },
   "outputs": [
    {
     "data": {
      "text/plain": [
       "V1        0\n",
       "V2        0\n",
       "V3        0\n",
       "V4        0\n",
       "V5        0\n",
       "V6        0\n",
       "V7        0\n",
       "V8        0\n",
       "V9        0\n",
       "V10       0\n",
       "V11       0\n",
       "V12       0\n",
       "V13       0\n",
       "V14       0\n",
       "V15       0\n",
       "V16       0\n",
       "V17       0\n",
       "V18       0\n",
       "V19       0\n",
       "V20       0\n",
       "V21       0\n",
       "V22       0\n",
       "V23       0\n",
       "V24       0\n",
       "V25       0\n",
       "V26       0\n",
       "V27       0\n",
       "V28       0\n",
       "Amount    0\n",
       "Class     0\n",
       "dtype: int64"
      ]
     },
     "execution_count": 14,
     "metadata": {},
     "output_type": "execute_result"
    }
   ],
   "source": [
    "# Class imbalnce is fixed\n",
    "df.isnull().sum()"
   ]
  },
  {
   "cell_type": "code",
   "execution_count": null,
   "id": "9dee085d",
   "metadata": {
    "execution": {
     "iopub.execute_input": "2024-07-20T09:39:31.219082Z",
     "iopub.status.busy": "2024-07-20T09:39:31.218692Z",
     "iopub.status.idle": "2024-07-20T09:39:31.223234Z",
     "shell.execute_reply": "2024-07-20T09:39:31.222174Z"
    },
    "papermill": {
     "duration": 0.017508,
     "end_time": "2024-07-20T09:39:31.225546",
     "exception": false,
     "start_time": "2024-07-20T09:39:31.208038",
     "status": "completed"
    },
    "tags": []
   },
   "outputs": [],
   "source": [
    "# Data has no null values"
   ]
  },
  {
   "cell_type": "code",
   "execution_count": null,
   "id": "6ceebb35",
   "metadata": {
    "execution": {
     "iopub.execute_input": "2024-07-20T09:39:31.247366Z",
     "iopub.status.busy": "2024-07-20T09:39:31.246949Z",
     "iopub.status.idle": "2024-07-20T09:39:31.255085Z",
     "shell.execute_reply": "2024-07-20T09:39:31.253943Z"
    },
    "papermill": {
     "duration": 0.022011,
     "end_time": "2024-07-20T09:39:31.257564",
     "exception": false,
     "start_time": "2024-07-20T09:39:31.235553",
     "status": "completed"
    },
    "tags": []
   },
   "outputs": [
    {
     "data": {
      "text/plain": [
       "138028    0\n",
       "63099     0\n",
       "73411     0\n",
       "164247    0\n",
       "148999    0\n",
       "         ..\n",
       "279863    1\n",
       "280143    1\n",
       "280149    1\n",
       "281144    1\n",
       "281674    1\n",
       "Name: Class, Length: 984, dtype: int64"
      ]
     },
     "execution_count": 16,
     "metadata": {},
     "output_type": "execute_result"
    }
   ],
   "source": [
    "y_resampled"
   ]
  },
  {
   "cell_type": "code",
   "execution_count": null,
   "id": "f2529434",
   "metadata": {
    "execution": {
     "iopub.execute_input": "2024-07-20T09:39:31.279597Z",
     "iopub.status.busy": "2024-07-20T09:39:31.279221Z",
     "iopub.status.idle": "2024-07-20T09:39:31.285096Z",
     "shell.execute_reply": "2024-07-20T09:39:31.284063Z"
    },
    "papermill": {
     "duration": 0.019317,
     "end_time": "2024-07-20T09:39:31.287293",
     "exception": false,
     "start_time": "2024-07-20T09:39:31.267976",
     "status": "completed"
    },
    "tags": []
   },
   "outputs": [
    {
     "name": "stdout",
     "output_type": "stream",
     "text": [
      "[(0, 492), (1, 492)]\n"
     ]
    }
   ],
   "source": [
    "from collections import Counter\n",
    "print(sorted(Counter(y_resampled).items()))"
   ]
  },
  {
   "cell_type": "code",
   "execution_count": null,
   "id": "f9019f16",
   "metadata": {
    "execution": {
     "iopub.execute_input": "2024-07-20T09:39:31.308754Z",
     "iopub.status.busy": "2024-07-20T09:39:31.308362Z",
     "iopub.status.idle": "2024-07-20T09:39:31.319421Z",
     "shell.execute_reply": "2024-07-20T09:39:31.318485Z"
    },
    "papermill": {
     "duration": 0.024479,
     "end_time": "2024-07-20T09:39:31.321866",
     "exception": false,
     "start_time": "2024-07-20T09:39:31.297387",
     "status": "completed"
    },
    "tags": []
   },
   "outputs": [],
   "source": [
    "x_train,x_test,y_train,y_test = train_test_split(X_resampled,y_resampled,test_size=0.3,random_state=43)"
   ]
  },
  {
   "cell_type": "code",
   "execution_count": null,
   "id": "6c34ad1d",
   "metadata": {
    "execution": {
     "iopub.execute_input": "2024-07-20T09:39:31.344186Z",
     "iopub.status.busy": "2024-07-20T09:39:31.343076Z",
     "iopub.status.idle": "2024-07-20T09:39:31.372948Z",
     "shell.execute_reply": "2024-07-20T09:39:31.371752Z"
    },
    "papermill": {
     "duration": 0.043817,
     "end_time": "2024-07-20T09:39:31.375787",
     "exception": false,
     "start_time": "2024-07-20T09:39:31.331970",
     "status": "completed"
    },
    "tags": []
   },
   "outputs": [
    {
     "data": {
      "text/html": [
       "<div>\n",
       "<style scoped>\n",
       "    .dataframe tbody tr th:only-of-type {\n",
       "        vertical-align: middle;\n",
       "    }\n",
       "\n",
       "    .dataframe tbody tr th {\n",
       "        vertical-align: top;\n",
       "    }\n",
       "\n",
       "    .dataframe thead th {\n",
       "        text-align: right;\n",
       "    }\n",
       "</style>\n",
       "<table border=\"1\" class=\"dataframe\">\n",
       "  <thead>\n",
       "    <tr style=\"text-align: right;\">\n",
       "      <th></th>\n",
       "      <th>V1</th>\n",
       "      <th>V2</th>\n",
       "      <th>V3</th>\n",
       "      <th>V4</th>\n",
       "      <th>V5</th>\n",
       "      <th>V6</th>\n",
       "      <th>V7</th>\n",
       "      <th>V8</th>\n",
       "      <th>V9</th>\n",
       "      <th>V10</th>\n",
       "      <th>...</th>\n",
       "      <th>V20</th>\n",
       "      <th>V21</th>\n",
       "      <th>V22</th>\n",
       "      <th>V23</th>\n",
       "      <th>V24</th>\n",
       "      <th>V25</th>\n",
       "      <th>V26</th>\n",
       "      <th>V27</th>\n",
       "      <th>V28</th>\n",
       "      <th>Amount</th>\n",
       "    </tr>\n",
       "  </thead>\n",
       "  <tbody>\n",
       "    <tr>\n",
       "      <th>4920</th>\n",
       "      <td>-2.303350</td>\n",
       "      <td>1.759247</td>\n",
       "      <td>-0.359745</td>\n",
       "      <td>2.330243</td>\n",
       "      <td>-0.821628</td>\n",
       "      <td>-0.075788</td>\n",
       "      <td>0.562320</td>\n",
       "      <td>-0.399147</td>\n",
       "      <td>-0.238253</td>\n",
       "      <td>-1.525412</td>\n",
       "      <td>...</td>\n",
       "      <td>-0.430022</td>\n",
       "      <td>-0.294166</td>\n",
       "      <td>-0.932391</td>\n",
       "      <td>0.172726</td>\n",
       "      <td>-0.087330</td>\n",
       "      <td>-0.156114</td>\n",
       "      <td>-0.542628</td>\n",
       "      <td>0.039566</td>\n",
       "      <td>-0.153029</td>\n",
       "      <td>239.93</td>\n",
       "    </tr>\n",
       "    <tr>\n",
       "      <th>30384</th>\n",
       "      <td>-2.857170</td>\n",
       "      <td>4.045601</td>\n",
       "      <td>-4.197299</td>\n",
       "      <td>5.487199</td>\n",
       "      <td>-3.070776</td>\n",
       "      <td>-1.422686</td>\n",
       "      <td>-5.651314</td>\n",
       "      <td>2.019657</td>\n",
       "      <td>-5.015491</td>\n",
       "      <td>-6.319708</td>\n",
       "      <td>...</td>\n",
       "      <td>0.981609</td>\n",
       "      <td>1.080323</td>\n",
       "      <td>-0.561384</td>\n",
       "      <td>0.102678</td>\n",
       "      <td>-0.067195</td>\n",
       "      <td>-0.476931</td>\n",
       "      <td>-0.103716</td>\n",
       "      <td>1.166961</td>\n",
       "      <td>0.663632</td>\n",
       "      <td>1.00</td>\n",
       "    </tr>\n",
       "    <tr>\n",
       "      <th>143335</th>\n",
       "      <td>-6.713407</td>\n",
       "      <td>3.921104</td>\n",
       "      <td>-9.746678</td>\n",
       "      <td>5.148263</td>\n",
       "      <td>-5.151563</td>\n",
       "      <td>-2.099389</td>\n",
       "      <td>-5.937767</td>\n",
       "      <td>3.578780</td>\n",
       "      <td>-4.684952</td>\n",
       "      <td>-8.537758</td>\n",
       "      <td>...</td>\n",
       "      <td>0.135711</td>\n",
       "      <td>0.954272</td>\n",
       "      <td>-0.451086</td>\n",
       "      <td>0.127214</td>\n",
       "      <td>-0.339450</td>\n",
       "      <td>0.394096</td>\n",
       "      <td>1.075295</td>\n",
       "      <td>1.649906</td>\n",
       "      <td>-0.394905</td>\n",
       "      <td>252.92</td>\n",
       "    </tr>\n",
       "    <tr>\n",
       "      <th>42784</th>\n",
       "      <td>-10.940739</td>\n",
       "      <td>6.261586</td>\n",
       "      <td>-14.182339</td>\n",
       "      <td>7.183602</td>\n",
       "      <td>-9.951363</td>\n",
       "      <td>-3.860820</td>\n",
       "      <td>-13.547302</td>\n",
       "      <td>7.096472</td>\n",
       "      <td>-6.294029</td>\n",
       "      <td>-13.608143</td>\n",
       "      <td>...</td>\n",
       "      <td>-0.088342</td>\n",
       "      <td>2.267448</td>\n",
       "      <td>-0.492029</td>\n",
       "      <td>-0.239303</td>\n",
       "      <td>0.454368</td>\n",
       "      <td>-0.101611</td>\n",
       "      <td>0.446997</td>\n",
       "      <td>0.062293</td>\n",
       "      <td>-0.439770</td>\n",
       "      <td>45.49</td>\n",
       "    </tr>\n",
       "    <tr>\n",
       "      <th>154684</th>\n",
       "      <td>-28.709229</td>\n",
       "      <td>22.057729</td>\n",
       "      <td>-27.855811</td>\n",
       "      <td>11.845013</td>\n",
       "      <td>-18.983813</td>\n",
       "      <td>6.474115</td>\n",
       "      <td>-43.557242</td>\n",
       "      <td>-41.044261</td>\n",
       "      <td>-13.320155</td>\n",
       "      <td>-24.588262</td>\n",
       "      <td>...</td>\n",
       "      <td>11.059004</td>\n",
       "      <td>-22.797604</td>\n",
       "      <td>8.316275</td>\n",
       "      <td>5.466230</td>\n",
       "      <td>0.023854</td>\n",
       "      <td>-1.527145</td>\n",
       "      <td>-0.145225</td>\n",
       "      <td>-5.682338</td>\n",
       "      <td>-0.439134</td>\n",
       "      <td>0.01</td>\n",
       "    </tr>\n",
       "    <tr>\n",
       "      <th>...</th>\n",
       "      <td>...</td>\n",
       "      <td>...</td>\n",
       "      <td>...</td>\n",
       "      <td>...</td>\n",
       "      <td>...</td>\n",
       "      <td>...</td>\n",
       "      <td>...</td>\n",
       "      <td>...</td>\n",
       "      <td>...</td>\n",
       "      <td>...</td>\n",
       "      <td>...</td>\n",
       "      <td>...</td>\n",
       "      <td>...</td>\n",
       "      <td>...</td>\n",
       "      <td>...</td>\n",
       "      <td>...</td>\n",
       "      <td>...</td>\n",
       "      <td>...</td>\n",
       "      <td>...</td>\n",
       "      <td>...</td>\n",
       "      <td>...</td>\n",
       "    </tr>\n",
       "    <tr>\n",
       "      <th>77253</th>\n",
       "      <td>1.256248</td>\n",
       "      <td>0.387589</td>\n",
       "      <td>0.315620</td>\n",
       "      <td>0.689161</td>\n",
       "      <td>-0.330497</td>\n",
       "      <td>-1.062229</td>\n",
       "      <td>0.118629</td>\n",
       "      <td>-0.230365</td>\n",
       "      <td>-0.038058</td>\n",
       "      <td>-0.296439</td>\n",
       "      <td>...</td>\n",
       "      <td>-0.050528</td>\n",
       "      <td>-0.282121</td>\n",
       "      <td>-0.791847</td>\n",
       "      <td>0.123614</td>\n",
       "      <td>0.358131</td>\n",
       "      <td>0.231758</td>\n",
       "      <td>0.092822</td>\n",
       "      <td>-0.020065</td>\n",
       "      <td>0.031859</td>\n",
       "      <td>1.98</td>\n",
       "    </tr>\n",
       "    <tr>\n",
       "      <th>151730</th>\n",
       "      <td>-1.952933</td>\n",
       "      <td>3.541385</td>\n",
       "      <td>-1.310561</td>\n",
       "      <td>5.955664</td>\n",
       "      <td>-1.003993</td>\n",
       "      <td>0.983049</td>\n",
       "      <td>-4.587235</td>\n",
       "      <td>-4.892184</td>\n",
       "      <td>-2.516752</td>\n",
       "      <td>-2.850324</td>\n",
       "      <td>...</td>\n",
       "      <td>1.965030</td>\n",
       "      <td>-1.998091</td>\n",
       "      <td>1.133706</td>\n",
       "      <td>-0.041461</td>\n",
       "      <td>-0.215379</td>\n",
       "      <td>-0.865599</td>\n",
       "      <td>0.212545</td>\n",
       "      <td>0.532897</td>\n",
       "      <td>0.357892</td>\n",
       "      <td>18.96</td>\n",
       "    </tr>\n",
       "    <tr>\n",
       "      <th>103430</th>\n",
       "      <td>0.213954</td>\n",
       "      <td>-1.582251</td>\n",
       "      <td>0.304550</td>\n",
       "      <td>1.565536</td>\n",
       "      <td>-0.825560</td>\n",
       "      <td>0.892996</td>\n",
       "      <td>0.084654</td>\n",
       "      <td>0.212262</td>\n",
       "      <td>0.584368</td>\n",
       "      <td>-0.320649</td>\n",
       "      <td>...</td>\n",
       "      <td>0.771232</td>\n",
       "      <td>0.293300</td>\n",
       "      <td>0.100241</td>\n",
       "      <td>-0.543248</td>\n",
       "      <td>-0.246729</td>\n",
       "      <td>0.446425</td>\n",
       "      <td>-0.293470</td>\n",
       "      <td>-0.016632</td>\n",
       "      <td>0.090809</td>\n",
       "      <td>469.92</td>\n",
       "    </tr>\n",
       "    <tr>\n",
       "      <th>28747</th>\n",
       "      <td>1.125711</td>\n",
       "      <td>0.234987</td>\n",
       "      <td>1.525035</td>\n",
       "      <td>2.716260</td>\n",
       "      <td>-0.832368</td>\n",
       "      <td>0.134716</td>\n",
       "      <td>-0.579474</td>\n",
       "      <td>0.182346</td>\n",
       "      <td>0.161605</td>\n",
       "      <td>0.503663</td>\n",
       "      <td>...</td>\n",
       "      <td>-0.186033</td>\n",
       "      <td>-0.090272</td>\n",
       "      <td>-0.120623</td>\n",
       "      <td>0.049578</td>\n",
       "      <td>0.365123</td>\n",
       "      <td>0.285938</td>\n",
       "      <td>-0.041929</td>\n",
       "      <td>0.040835</td>\n",
       "      <td>0.034898</td>\n",
       "      <td>0.00</td>\n",
       "    </tr>\n",
       "    <tr>\n",
       "      <th>154694</th>\n",
       "      <td>-2.877176</td>\n",
       "      <td>4.569649</td>\n",
       "      <td>-9.553069</td>\n",
       "      <td>4.441079</td>\n",
       "      <td>-3.653961</td>\n",
       "      <td>-1.877981</td>\n",
       "      <td>-3.514353</td>\n",
       "      <td>1.547608</td>\n",
       "      <td>-2.503304</td>\n",
       "      <td>-7.575634</td>\n",
       "      <td>...</td>\n",
       "      <td>0.105615</td>\n",
       "      <td>1.272896</td>\n",
       "      <td>1.300268</td>\n",
       "      <td>-0.003950</td>\n",
       "      <td>-0.360848</td>\n",
       "      <td>-0.597526</td>\n",
       "      <td>-0.390901</td>\n",
       "      <td>0.592197</td>\n",
       "      <td>-0.241010</td>\n",
       "      <td>346.94</td>\n",
       "    </tr>\n",
       "  </tbody>\n",
       "</table>\n",
       "<p>688 rows × 29 columns</p>\n",
       "</div>"
      ],
      "text/plain": [
       "               V1         V2         V3         V4         V5        V6  \\\n",
       "4920    -2.303350   1.759247  -0.359745   2.330243  -0.821628 -0.075788   \n",
       "30384   -2.857170   4.045601  -4.197299   5.487199  -3.070776 -1.422686   \n",
       "143335  -6.713407   3.921104  -9.746678   5.148263  -5.151563 -2.099389   \n",
       "42784  -10.940739   6.261586 -14.182339   7.183602  -9.951363 -3.860820   \n",
       "154684 -28.709229  22.057729 -27.855811  11.845013 -18.983813  6.474115   \n",
       "...           ...        ...        ...        ...        ...       ...   \n",
       "77253    1.256248   0.387589   0.315620   0.689161  -0.330497 -1.062229   \n",
       "151730  -1.952933   3.541385  -1.310561   5.955664  -1.003993  0.983049   \n",
       "103430   0.213954  -1.582251   0.304550   1.565536  -0.825560  0.892996   \n",
       "28747    1.125711   0.234987   1.525035   2.716260  -0.832368  0.134716   \n",
       "154694  -2.877176   4.569649  -9.553069   4.441079  -3.653961 -1.877981   \n",
       "\n",
       "               V7         V8         V9        V10  ...        V20        V21  \\\n",
       "4920     0.562320  -0.399147  -0.238253  -1.525412  ...  -0.430022  -0.294166   \n",
       "30384   -5.651314   2.019657  -5.015491  -6.319708  ...   0.981609   1.080323   \n",
       "143335  -5.937767   3.578780  -4.684952  -8.537758  ...   0.135711   0.954272   \n",
       "42784  -13.547302   7.096472  -6.294029 -13.608143  ...  -0.088342   2.267448   \n",
       "154684 -43.557242 -41.044261 -13.320155 -24.588262  ...  11.059004 -22.797604   \n",
       "...           ...        ...        ...        ...  ...        ...        ...   \n",
       "77253    0.118629  -0.230365  -0.038058  -0.296439  ...  -0.050528  -0.282121   \n",
       "151730  -4.587235  -4.892184  -2.516752  -2.850324  ...   1.965030  -1.998091   \n",
       "103430   0.084654   0.212262   0.584368  -0.320649  ...   0.771232   0.293300   \n",
       "28747   -0.579474   0.182346   0.161605   0.503663  ...  -0.186033  -0.090272   \n",
       "154694  -3.514353   1.547608  -2.503304  -7.575634  ...   0.105615   1.272896   \n",
       "\n",
       "             V22       V23       V24       V25       V26       V27       V28  \\\n",
       "4920   -0.932391  0.172726 -0.087330 -0.156114 -0.542628  0.039566 -0.153029   \n",
       "30384  -0.561384  0.102678 -0.067195 -0.476931 -0.103716  1.166961  0.663632   \n",
       "143335 -0.451086  0.127214 -0.339450  0.394096  1.075295  1.649906 -0.394905   \n",
       "42784  -0.492029 -0.239303  0.454368 -0.101611  0.446997  0.062293 -0.439770   \n",
       "154684  8.316275  5.466230  0.023854 -1.527145 -0.145225 -5.682338 -0.439134   \n",
       "...          ...       ...       ...       ...       ...       ...       ...   \n",
       "77253  -0.791847  0.123614  0.358131  0.231758  0.092822 -0.020065  0.031859   \n",
       "151730  1.133706 -0.041461 -0.215379 -0.865599  0.212545  0.532897  0.357892   \n",
       "103430  0.100241 -0.543248 -0.246729  0.446425 -0.293470 -0.016632  0.090809   \n",
       "28747  -0.120623  0.049578  0.365123  0.285938 -0.041929  0.040835  0.034898   \n",
       "154694  1.300268 -0.003950 -0.360848 -0.597526 -0.390901  0.592197 -0.241010   \n",
       "\n",
       "        Amount  \n",
       "4920    239.93  \n",
       "30384     1.00  \n",
       "143335  252.92  \n",
       "42784    45.49  \n",
       "154684    0.01  \n",
       "...        ...  \n",
       "77253     1.98  \n",
       "151730   18.96  \n",
       "103430  469.92  \n",
       "28747     0.00  \n",
       "154694  346.94  \n",
       "\n",
       "[688 rows x 29 columns]"
      ]
     },
     "execution_count": 19,
     "metadata": {},
     "output_type": "execute_result"
    }
   ],
   "source": [
    "x_train"
   ]
  },
  {
   "cell_type": "code",
   "execution_count": null,
   "id": "dc6a3123",
   "metadata": {
    "execution": {
     "iopub.execute_input": "2024-07-20T09:39:31.399100Z",
     "iopub.status.busy": "2024-07-20T09:39:31.398709Z",
     "iopub.status.idle": "2024-07-20T09:39:31.431005Z",
     "shell.execute_reply": "2024-07-20T09:39:31.429917Z"
    },
    "papermill": {
     "duration": 0.046582,
     "end_time": "2024-07-20T09:39:31.433575",
     "exception": false,
     "start_time": "2024-07-20T09:39:31.386993",
     "status": "completed"
    },
    "tags": []
   },
   "outputs": [
    {
     "data": {
      "text/html": [
       "<div>\n",
       "<style scoped>\n",
       "    .dataframe tbody tr th:only-of-type {\n",
       "        vertical-align: middle;\n",
       "    }\n",
       "\n",
       "    .dataframe tbody tr th {\n",
       "        vertical-align: top;\n",
       "    }\n",
       "\n",
       "    .dataframe thead th {\n",
       "        text-align: right;\n",
       "    }\n",
       "</style>\n",
       "<table border=\"1\" class=\"dataframe\">\n",
       "  <thead>\n",
       "    <tr style=\"text-align: right;\">\n",
       "      <th></th>\n",
       "      <th>V1</th>\n",
       "      <th>V2</th>\n",
       "      <th>V3</th>\n",
       "      <th>V4</th>\n",
       "      <th>V5</th>\n",
       "      <th>V6</th>\n",
       "      <th>V7</th>\n",
       "      <th>V8</th>\n",
       "      <th>V9</th>\n",
       "      <th>V10</th>\n",
       "      <th>...</th>\n",
       "      <th>V20</th>\n",
       "      <th>V21</th>\n",
       "      <th>V22</th>\n",
       "      <th>V23</th>\n",
       "      <th>V24</th>\n",
       "      <th>V25</th>\n",
       "      <th>V26</th>\n",
       "      <th>V27</th>\n",
       "      <th>V28</th>\n",
       "      <th>Amount</th>\n",
       "    </tr>\n",
       "  </thead>\n",
       "  <tbody>\n",
       "    <tr>\n",
       "      <th>99157</th>\n",
       "      <td>1.315404</td>\n",
       "      <td>-0.033577</td>\n",
       "      <td>-1.089984</td>\n",
       "      <td>-0.557087</td>\n",
       "      <td>2.029931</td>\n",
       "      <td>3.268130</td>\n",
       "      <td>-0.534994</td>\n",
       "      <td>0.808250</td>\n",
       "      <td>-0.052724</td>\n",
       "      <td>0.001149</td>\n",
       "      <td>...</td>\n",
       "      <td>0.016952</td>\n",
       "      <td>-0.313307</td>\n",
       "      <td>-1.068934</td>\n",
       "      <td>0.103797</td>\n",
       "      <td>0.992126</td>\n",
       "      <td>0.369398</td>\n",
       "      <td>0.110374</td>\n",
       "      <td>-0.028302</td>\n",
       "      <td>0.011836</td>\n",
       "      <td>1.98</td>\n",
       "    </tr>\n",
       "    <tr>\n",
       "      <th>204064</th>\n",
       "      <td>0.232512</td>\n",
       "      <td>0.938944</td>\n",
       "      <td>-4.647780</td>\n",
       "      <td>3.079844</td>\n",
       "      <td>-1.902655</td>\n",
       "      <td>-1.041408</td>\n",
       "      <td>-1.020407</td>\n",
       "      <td>0.547069</td>\n",
       "      <td>-1.105990</td>\n",
       "      <td>-3.520128</td>\n",
       "      <td>...</td>\n",
       "      <td>1.141615</td>\n",
       "      <td>0.911373</td>\n",
       "      <td>1.042929</td>\n",
       "      <td>0.999394</td>\n",
       "      <td>0.901260</td>\n",
       "      <td>-0.452093</td>\n",
       "      <td>0.192959</td>\n",
       "      <td>0.180859</td>\n",
       "      <td>-0.029315</td>\n",
       "      <td>345.00</td>\n",
       "    </tr>\n",
       "    <tr>\n",
       "      <th>95597</th>\n",
       "      <td>-2.923827</td>\n",
       "      <td>1.524837</td>\n",
       "      <td>-3.018758</td>\n",
       "      <td>3.289291</td>\n",
       "      <td>-5.755542</td>\n",
       "      <td>2.218276</td>\n",
       "      <td>-0.509995</td>\n",
       "      <td>-3.569444</td>\n",
       "      <td>-1.016592</td>\n",
       "      <td>-4.320536</td>\n",
       "      <td>...</td>\n",
       "      <td>-0.447039</td>\n",
       "      <td>-0.511657</td>\n",
       "      <td>-0.122724</td>\n",
       "      <td>-4.288639</td>\n",
       "      <td>0.563797</td>\n",
       "      <td>-0.949451</td>\n",
       "      <td>-0.204532</td>\n",
       "      <td>1.510206</td>\n",
       "      <td>-0.324706</td>\n",
       "      <td>1354.25</td>\n",
       "    </tr>\n",
       "    <tr>\n",
       "      <th>243393</th>\n",
       "      <td>-5.488032</td>\n",
       "      <td>3.329561</td>\n",
       "      <td>-5.996296</td>\n",
       "      <td>3.601720</td>\n",
       "      <td>-2.023926</td>\n",
       "      <td>-1.737393</td>\n",
       "      <td>-4.396859</td>\n",
       "      <td>0.228394</td>\n",
       "      <td>-1.675884</td>\n",
       "      <td>-3.991785</td>\n",
       "      <td>...</td>\n",
       "      <td>-0.551121</td>\n",
       "      <td>1.719631</td>\n",
       "      <td>0.343209</td>\n",
       "      <td>0.133584</td>\n",
       "      <td>0.833340</td>\n",
       "      <td>-0.839776</td>\n",
       "      <td>0.502010</td>\n",
       "      <td>-1.937473</td>\n",
       "      <td>1.521218</td>\n",
       "      <td>0.01</td>\n",
       "    </tr>\n",
       "    <tr>\n",
       "      <th>6331</th>\n",
       "      <td>0.008430</td>\n",
       "      <td>4.137837</td>\n",
       "      <td>-6.240697</td>\n",
       "      <td>6.675732</td>\n",
       "      <td>0.768307</td>\n",
       "      <td>-3.353060</td>\n",
       "      <td>-1.631735</td>\n",
       "      <td>0.154612</td>\n",
       "      <td>-2.795892</td>\n",
       "      <td>-6.187891</td>\n",
       "      <td>...</td>\n",
       "      <td>0.488378</td>\n",
       "      <td>0.364514</td>\n",
       "      <td>-0.608057</td>\n",
       "      <td>-0.539528</td>\n",
       "      <td>0.128940</td>\n",
       "      <td>1.488481</td>\n",
       "      <td>0.507963</td>\n",
       "      <td>0.735822</td>\n",
       "      <td>0.513574</td>\n",
       "      <td>1.00</td>\n",
       "    </tr>\n",
       "    <tr>\n",
       "      <th>...</th>\n",
       "      <td>...</td>\n",
       "      <td>...</td>\n",
       "      <td>...</td>\n",
       "      <td>...</td>\n",
       "      <td>...</td>\n",
       "      <td>...</td>\n",
       "      <td>...</td>\n",
       "      <td>...</td>\n",
       "      <td>...</td>\n",
       "      <td>...</td>\n",
       "      <td>...</td>\n",
       "      <td>...</td>\n",
       "      <td>...</td>\n",
       "      <td>...</td>\n",
       "      <td>...</td>\n",
       "      <td>...</td>\n",
       "      <td>...</td>\n",
       "      <td>...</td>\n",
       "      <td>...</td>\n",
       "      <td>...</td>\n",
       "      <td>...</td>\n",
       "    </tr>\n",
       "    <tr>\n",
       "      <th>122479</th>\n",
       "      <td>-5.622469</td>\n",
       "      <td>3.480623</td>\n",
       "      <td>-6.200677</td>\n",
       "      <td>4.311234</td>\n",
       "      <td>-5.226286</td>\n",
       "      <td>-1.341764</td>\n",
       "      <td>-5.220941</td>\n",
       "      <td>2.682844</td>\n",
       "      <td>-2.921484</td>\n",
       "      <td>-6.561257</td>\n",
       "      <td>...</td>\n",
       "      <td>-0.156289</td>\n",
       "      <td>0.949569</td>\n",
       "      <td>-0.428986</td>\n",
       "      <td>-0.350676</td>\n",
       "      <td>0.197550</td>\n",
       "      <td>0.159234</td>\n",
       "      <td>-0.377791</td>\n",
       "      <td>-0.213562</td>\n",
       "      <td>0.459529</td>\n",
       "      <td>219.80</td>\n",
       "    </tr>\n",
       "    <tr>\n",
       "      <th>11841</th>\n",
       "      <td>-15.271362</td>\n",
       "      <td>8.326581</td>\n",
       "      <td>-22.338591</td>\n",
       "      <td>11.885313</td>\n",
       "      <td>-8.721334</td>\n",
       "      <td>-2.324307</td>\n",
       "      <td>-16.196419</td>\n",
       "      <td>0.512882</td>\n",
       "      <td>-6.333685</td>\n",
       "      <td>-13.175198</td>\n",
       "      <td>...</td>\n",
       "      <td>0.993121</td>\n",
       "      <td>-2.356896</td>\n",
       "      <td>1.068019</td>\n",
       "      <td>1.085617</td>\n",
       "      <td>-1.039797</td>\n",
       "      <td>-0.182006</td>\n",
       "      <td>0.649921</td>\n",
       "      <td>2.149247</td>\n",
       "      <td>-1.406811</td>\n",
       "      <td>1.00</td>\n",
       "    </tr>\n",
       "    <tr>\n",
       "      <th>132850</th>\n",
       "      <td>-0.501963</td>\n",
       "      <td>-0.514645</td>\n",
       "      <td>2.284165</td>\n",
       "      <td>-1.703663</td>\n",
       "      <td>-2.769520</td>\n",
       "      <td>0.682515</td>\n",
       "      <td>-0.736203</td>\n",
       "      <td>-0.801743</td>\n",
       "      <td>-1.365432</td>\n",
       "      <td>0.836030</td>\n",
       "      <td>...</td>\n",
       "      <td>-0.493238</td>\n",
       "      <td>0.816828</td>\n",
       "      <td>0.645976</td>\n",
       "      <td>-0.024298</td>\n",
       "      <td>0.437770</td>\n",
       "      <td>-0.087890</td>\n",
       "      <td>-0.029844</td>\n",
       "      <td>0.154039</td>\n",
       "      <td>-0.014056</td>\n",
       "      <td>182.20</td>\n",
       "    </tr>\n",
       "    <tr>\n",
       "      <th>259328</th>\n",
       "      <td>-1.559357</td>\n",
       "      <td>-0.523267</td>\n",
       "      <td>-1.763186</td>\n",
       "      <td>-0.247173</td>\n",
       "      <td>1.654047</td>\n",
       "      <td>-1.819147</td>\n",
       "      <td>0.084280</td>\n",
       "      <td>0.034053</td>\n",
       "      <td>-0.038916</td>\n",
       "      <td>-0.757246</td>\n",
       "      <td>...</td>\n",
       "      <td>-0.711645</td>\n",
       "      <td>0.428527</td>\n",
       "      <td>1.362442</td>\n",
       "      <td>-0.803382</td>\n",
       "      <td>-0.289568</td>\n",
       "      <td>-1.777106</td>\n",
       "      <td>-0.534822</td>\n",
       "      <td>0.439591</td>\n",
       "      <td>-0.252370</td>\n",
       "      <td>45.77</td>\n",
       "    </tr>\n",
       "    <tr>\n",
       "      <th>41569</th>\n",
       "      <td>-2.377533</td>\n",
       "      <td>0.520539</td>\n",
       "      <td>-8.094139</td>\n",
       "      <td>8.005351</td>\n",
       "      <td>2.640750</td>\n",
       "      <td>-3.381586</td>\n",
       "      <td>-1.934372</td>\n",
       "      <td>0.562322</td>\n",
       "      <td>-3.104027</td>\n",
       "      <td>-3.051210</td>\n",
       "      <td>...</td>\n",
       "      <td>-0.634747</td>\n",
       "      <td>0.148284</td>\n",
       "      <td>0.721100</td>\n",
       "      <td>2.661291</td>\n",
       "      <td>-0.508620</td>\n",
       "      <td>-0.401657</td>\n",
       "      <td>0.587611</td>\n",
       "      <td>0.500326</td>\n",
       "      <td>0.551760</td>\n",
       "      <td>1.00</td>\n",
       "    </tr>\n",
       "  </tbody>\n",
       "</table>\n",
       "<p>296 rows × 29 columns</p>\n",
       "</div>"
      ],
      "text/plain": [
       "               V1        V2         V3         V4        V5        V6  \\\n",
       "99157    1.315404 -0.033577  -1.089984  -0.557087  2.029931  3.268130   \n",
       "204064   0.232512  0.938944  -4.647780   3.079844 -1.902655 -1.041408   \n",
       "95597   -2.923827  1.524837  -3.018758   3.289291 -5.755542  2.218276   \n",
       "243393  -5.488032  3.329561  -5.996296   3.601720 -2.023926 -1.737393   \n",
       "6331     0.008430  4.137837  -6.240697   6.675732  0.768307 -3.353060   \n",
       "...           ...       ...        ...        ...       ...       ...   \n",
       "122479  -5.622469  3.480623  -6.200677   4.311234 -5.226286 -1.341764   \n",
       "11841  -15.271362  8.326581 -22.338591  11.885313 -8.721334 -2.324307   \n",
       "132850  -0.501963 -0.514645   2.284165  -1.703663 -2.769520  0.682515   \n",
       "259328  -1.559357 -0.523267  -1.763186  -0.247173  1.654047 -1.819147   \n",
       "41569   -2.377533  0.520539  -8.094139   8.005351  2.640750 -3.381586   \n",
       "\n",
       "               V7        V8        V9        V10  ...       V20       V21  \\\n",
       "99157   -0.534994  0.808250 -0.052724   0.001149  ...  0.016952 -0.313307   \n",
       "204064  -1.020407  0.547069 -1.105990  -3.520128  ...  1.141615  0.911373   \n",
       "95597   -0.509995 -3.569444 -1.016592  -4.320536  ... -0.447039 -0.511657   \n",
       "243393  -4.396859  0.228394 -1.675884  -3.991785  ... -0.551121  1.719631   \n",
       "6331    -1.631735  0.154612 -2.795892  -6.187891  ...  0.488378  0.364514   \n",
       "...           ...       ...       ...        ...  ...       ...       ...   \n",
       "122479  -5.220941  2.682844 -2.921484  -6.561257  ... -0.156289  0.949569   \n",
       "11841  -16.196419  0.512882 -6.333685 -13.175198  ...  0.993121 -2.356896   \n",
       "132850  -0.736203 -0.801743 -1.365432   0.836030  ... -0.493238  0.816828   \n",
       "259328   0.084280  0.034053 -0.038916  -0.757246  ... -0.711645  0.428527   \n",
       "41569   -1.934372  0.562322 -3.104027  -3.051210  ... -0.634747  0.148284   \n",
       "\n",
       "             V22       V23       V24       V25       V26       V27       V28  \\\n",
       "99157  -1.068934  0.103797  0.992126  0.369398  0.110374 -0.028302  0.011836   \n",
       "204064  1.042929  0.999394  0.901260 -0.452093  0.192959  0.180859 -0.029315   \n",
       "95597  -0.122724 -4.288639  0.563797 -0.949451 -0.204532  1.510206 -0.324706   \n",
       "243393  0.343209  0.133584  0.833340 -0.839776  0.502010 -1.937473  1.521218   \n",
       "6331   -0.608057 -0.539528  0.128940  1.488481  0.507963  0.735822  0.513574   \n",
       "...          ...       ...       ...       ...       ...       ...       ...   \n",
       "122479 -0.428986 -0.350676  0.197550  0.159234 -0.377791 -0.213562  0.459529   \n",
       "11841   1.068019  1.085617 -1.039797 -0.182006  0.649921  2.149247 -1.406811   \n",
       "132850  0.645976 -0.024298  0.437770 -0.087890 -0.029844  0.154039 -0.014056   \n",
       "259328  1.362442 -0.803382 -0.289568 -1.777106 -0.534822  0.439591 -0.252370   \n",
       "41569   0.721100  2.661291 -0.508620 -0.401657  0.587611  0.500326  0.551760   \n",
       "\n",
       "         Amount  \n",
       "99157      1.98  \n",
       "204064   345.00  \n",
       "95597   1354.25  \n",
       "243393     0.01  \n",
       "6331       1.00  \n",
       "...         ...  \n",
       "122479   219.80  \n",
       "11841      1.00  \n",
       "132850   182.20  \n",
       "259328    45.77  \n",
       "41569      1.00  \n",
       "\n",
       "[296 rows x 29 columns]"
      ]
     },
     "execution_count": 20,
     "metadata": {},
     "output_type": "execute_result"
    }
   ],
   "source": [
    "x_test"
   ]
  },
  {
   "cell_type": "code",
   "execution_count": null,
   "id": "0198e83b",
   "metadata": {
    "execution": {
     "iopub.execute_input": "2024-07-20T09:39:31.458553Z",
     "iopub.status.busy": "2024-07-20T09:39:31.458163Z",
     "iopub.status.idle": "2024-07-20T09:39:31.464164Z",
     "shell.execute_reply": "2024-07-20T09:39:31.462987Z"
    },
    "papermill": {
     "duration": 0.021327,
     "end_time": "2024-07-20T09:39:31.466687",
     "exception": false,
     "start_time": "2024-07-20T09:39:31.445360",
     "status": "completed"
    },
    "tags": []
   },
   "outputs": [],
   "source": [
    "from sklearn.preprocessing import StandardScaler\n",
    "sc = StandardScaler()"
   ]
  },
  {
   "cell_type": "code",
   "execution_count": null,
   "id": "e37ae697",
   "metadata": {
    "execution": {
     "iopub.execute_input": "2024-07-20T09:39:31.491742Z",
     "iopub.status.busy": "2024-07-20T09:39:31.491199Z",
     "iopub.status.idle": "2024-07-20T09:39:31.503886Z",
     "shell.execute_reply": "2024-07-20T09:39:31.502804Z"
    },
    "papermill": {
     "duration": 0.028464,
     "end_time": "2024-07-20T09:39:31.506521",
     "exception": false,
     "start_time": "2024-07-20T09:39:31.478057",
     "status": "completed"
    },
    "tags": []
   },
   "outputs": [],
   "source": [
    "x_train = sc.fit_transform(x_train)"
   ]
  },
  {
   "cell_type": "code",
   "execution_count": null,
   "id": "46900c0d",
   "metadata": {
    "execution": {
     "iopub.execute_input": "2024-07-20T09:39:31.530415Z",
     "iopub.status.busy": "2024-07-20T09:39:31.530034Z",
     "iopub.status.idle": "2024-07-20T09:39:31.538657Z",
     "shell.execute_reply": "2024-07-20T09:39:31.537709Z"
    },
    "papermill": {
     "duration": 0.022691,
     "end_time": "2024-07-20T09:39:31.540838",
     "exception": false,
     "start_time": "2024-07-20T09:39:31.518147",
     "status": "completed"
    },
    "tags": []
   },
   "outputs": [],
   "source": [
    "x_test = sc.transform(x_test)"
   ]
  },
  {
   "cell_type": "code",
   "execution_count": null,
   "id": "061a4055",
   "metadata": {
    "execution": {
     "iopub.execute_input": "2024-07-20T09:39:31.564218Z",
     "iopub.status.busy": "2024-07-20T09:39:31.563842Z",
     "iopub.status.idle": "2024-07-20T09:39:31.568820Z",
     "shell.execute_reply": "2024-07-20T09:39:31.567742Z"
    },
    "papermill": {
     "duration": 0.019362,
     "end_time": "2024-07-20T09:39:31.571165",
     "exception": false,
     "start_time": "2024-07-20T09:39:31.551803",
     "status": "completed"
    },
    "tags": []
   },
   "outputs": [],
   "source": [
    "from sklearn.ensemble import RandomForestClassifier"
   ]
  },
  {
   "cell_type": "code",
   "execution_count": null,
   "id": "6013be4d",
   "metadata": {
    "execution": {
     "iopub.execute_input": "2024-07-20T09:39:31.595092Z",
     "iopub.status.busy": "2024-07-20T09:39:31.594694Z",
     "iopub.status.idle": "2024-07-20T09:39:31.599740Z",
     "shell.execute_reply": "2024-07-20T09:39:31.598741Z"
    },
    "papermill": {
     "duration": 0.019323,
     "end_time": "2024-07-20T09:39:31.601917",
     "exception": false,
     "start_time": "2024-07-20T09:39:31.582594",
     "status": "completed"
    },
    "tags": []
   },
   "outputs": [],
   "source": [
    "rf = RandomForestClassifier(n_estimators=100)"
   ]
  },
  {
   "cell_type": "code",
   "execution_count": null,
   "id": "2c0decfe",
   "metadata": {
    "execution": {
     "iopub.execute_input": "2024-07-20T09:39:31.625582Z",
     "iopub.status.busy": "2024-07-20T09:39:31.625187Z",
     "iopub.status.idle": "2024-07-20T09:39:31.988735Z",
     "shell.execute_reply": "2024-07-20T09:39:31.987649Z"
    },
    "papermill": {
     "duration": 0.377911,
     "end_time": "2024-07-20T09:39:31.991150",
     "exception": false,
     "start_time": "2024-07-20T09:39:31.613239",
     "status": "completed"
    },
    "tags": []
   },
   "outputs": [
    {
     "data": {
      "text/html": [
       "<style>#sk-container-id-1 {color: black;background-color: white;}#sk-container-id-1 pre{padding: 0;}#sk-container-id-1 div.sk-toggleable {background-color: white;}#sk-container-id-1 label.sk-toggleable__label {cursor: pointer;display: block;width: 100%;margin-bottom: 0;padding: 0.3em;box-sizing: border-box;text-align: center;}#sk-container-id-1 label.sk-toggleable__label-arrow:before {content: \"▸\";float: left;margin-right: 0.25em;color: #696969;}#sk-container-id-1 label.sk-toggleable__label-arrow:hover:before {color: black;}#sk-container-id-1 div.sk-estimator:hover label.sk-toggleable__label-arrow:before {color: black;}#sk-container-id-1 div.sk-toggleable__content {max-height: 0;max-width: 0;overflow: hidden;text-align: left;background-color: #f0f8ff;}#sk-container-id-1 div.sk-toggleable__content pre {margin: 0.2em;color: black;border-radius: 0.25em;background-color: #f0f8ff;}#sk-container-id-1 input.sk-toggleable__control:checked~div.sk-toggleable__content {max-height: 200px;max-width: 100%;overflow: auto;}#sk-container-id-1 input.sk-toggleable__control:checked~label.sk-toggleable__label-arrow:before {content: \"▾\";}#sk-container-id-1 div.sk-estimator input.sk-toggleable__control:checked~label.sk-toggleable__label {background-color: #d4ebff;}#sk-container-id-1 div.sk-label input.sk-toggleable__control:checked~label.sk-toggleable__label {background-color: #d4ebff;}#sk-container-id-1 input.sk-hidden--visually {border: 0;clip: rect(1px 1px 1px 1px);clip: rect(1px, 1px, 1px, 1px);height: 1px;margin: -1px;overflow: hidden;padding: 0;position: absolute;width: 1px;}#sk-container-id-1 div.sk-estimator {font-family: monospace;background-color: #f0f8ff;border: 1px dotted black;border-radius: 0.25em;box-sizing: border-box;margin-bottom: 0.5em;}#sk-container-id-1 div.sk-estimator:hover {background-color: #d4ebff;}#sk-container-id-1 div.sk-parallel-item::after {content: \"\";width: 100%;border-bottom: 1px solid gray;flex-grow: 1;}#sk-container-id-1 div.sk-label:hover label.sk-toggleable__label {background-color: #d4ebff;}#sk-container-id-1 div.sk-serial::before {content: \"\";position: absolute;border-left: 1px solid gray;box-sizing: border-box;top: 0;bottom: 0;left: 50%;z-index: 0;}#sk-container-id-1 div.sk-serial {display: flex;flex-direction: column;align-items: center;background-color: white;padding-right: 0.2em;padding-left: 0.2em;position: relative;}#sk-container-id-1 div.sk-item {position: relative;z-index: 1;}#sk-container-id-1 div.sk-parallel {display: flex;align-items: stretch;justify-content: center;background-color: white;position: relative;}#sk-container-id-1 div.sk-item::before, #sk-container-id-1 div.sk-parallel-item::before {content: \"\";position: absolute;border-left: 1px solid gray;box-sizing: border-box;top: 0;bottom: 0;left: 50%;z-index: -1;}#sk-container-id-1 div.sk-parallel-item {display: flex;flex-direction: column;z-index: 1;position: relative;background-color: white;}#sk-container-id-1 div.sk-parallel-item:first-child::after {align-self: flex-end;width: 50%;}#sk-container-id-1 div.sk-parallel-item:last-child::after {align-self: flex-start;width: 50%;}#sk-container-id-1 div.sk-parallel-item:only-child::after {width: 0;}#sk-container-id-1 div.sk-dashed-wrapped {border: 1px dashed gray;margin: 0 0.4em 0.5em 0.4em;box-sizing: border-box;padding-bottom: 0.4em;background-color: white;}#sk-container-id-1 div.sk-label label {font-family: monospace;font-weight: bold;display: inline-block;line-height: 1.2em;}#sk-container-id-1 div.sk-label-container {text-align: center;}#sk-container-id-1 div.sk-container {/* jupyter's `normalize.less` sets `[hidden] { display: none; }` but bootstrap.min.css set `[hidden] { display: none !important; }` so we also need the `!important` here to be able to override the default hidden behavior on the sphinx rendered scikit-learn.org. See: https://github.com/scikit-learn/scikit-learn/issues/21755 */display: inline-block !important;position: relative;}#sk-container-id-1 div.sk-text-repr-fallback {display: none;}</style><div id=\"sk-container-id-1\" class=\"sk-top-container\"><div class=\"sk-text-repr-fallback\"><pre>RandomForestClassifier()</pre><b>In a Jupyter environment, please rerun this cell to show the HTML representation or trust the notebook. <br />On GitHub, the HTML representation is unable to render, please try loading this page with nbviewer.org.</b></div><div class=\"sk-container\" hidden><div class=\"sk-item\"><div class=\"sk-estimator sk-toggleable\"><input class=\"sk-toggleable__control sk-hidden--visually\" id=\"sk-estimator-id-1\" type=\"checkbox\" checked><label for=\"sk-estimator-id-1\" class=\"sk-toggleable__label sk-toggleable__label-arrow\">RandomForestClassifier</label><div class=\"sk-toggleable__content\"><pre>RandomForestClassifier()</pre></div></div></div></div></div>"
      ],
      "text/plain": [
       "RandomForestClassifier()"
      ]
     },
     "execution_count": 26,
     "metadata": {},
     "output_type": "execute_result"
    }
   ],
   "source": [
    "rf.fit(x_train,y_train)"
   ]
  },
  {
   "cell_type": "code",
   "execution_count": null,
   "id": "fac7ae72",
   "metadata": {
    "execution": {
     "iopub.execute_input": "2024-07-20T09:39:32.015027Z",
     "iopub.status.busy": "2024-07-20T09:39:32.014619Z",
     "iopub.status.idle": "2024-07-20T09:39:32.030344Z",
     "shell.execute_reply": "2024-07-20T09:39:32.029214Z"
    },
    "papermill": {
     "duration": 0.030536,
     "end_time": "2024-07-20T09:39:32.032885",
     "exception": false,
     "start_time": "2024-07-20T09:39:32.002349",
     "status": "completed"
    },
    "tags": []
   },
   "outputs": [],
   "source": [
    "y_pred = rf.predict(x_test)"
   ]
  },
  {
   "cell_type": "code",
   "execution_count": null,
   "id": "37c9da46",
   "metadata": {
    "execution": {
     "iopub.execute_input": "2024-07-20T09:39:32.057858Z",
     "iopub.status.busy": "2024-07-20T09:39:32.057476Z",
     "iopub.status.idle": "2024-07-20T09:39:32.066325Z",
     "shell.execute_reply": "2024-07-20T09:39:32.064993Z"
    },
    "papermill": {
     "duration": 0.02416,
     "end_time": "2024-07-20T09:39:32.068643",
     "exception": false,
     "start_time": "2024-07-20T09:39:32.044483",
     "status": "completed"
    },
    "tags": []
   },
   "outputs": [
    {
     "data": {
      "text/plain": [
       "95.27027027027027"
      ]
     },
     "execution_count": 28,
     "metadata": {},
     "output_type": "execute_result"
    }
   ],
   "source": [
    "from sklearn.metrics import accuracy_score\n",
    "accuracy_score(y_pred,y_test)*100"
   ]
  },
  {
   "cell_type": "code",
   "execution_count": null,
   "id": "927d7c9f",
   "metadata": {
    "execution": {
     "iopub.execute_input": "2024-07-20T09:39:32.092444Z",
     "iopub.status.busy": "2024-07-20T09:39:32.092049Z",
     "iopub.status.idle": "2024-07-20T09:39:32.096865Z",
     "shell.execute_reply": "2024-07-20T09:39:32.095795Z"
    },
    "papermill": {
     "duration": 0.019527,
     "end_time": "2024-07-20T09:39:32.099339",
     "exception": false,
     "start_time": "2024-07-20T09:39:32.079812",
     "status": "completed"
    },
    "tags": []
   },
   "outputs": [],
   "source": [
    "from sklearn.model_selection import cross_val_score"
   ]
  },
  {
   "cell_type": "code",
   "execution_count": null,
   "id": "1c6e7fa1",
   "metadata": {
    "execution": {
     "iopub.execute_input": "2024-07-20T09:39:32.125112Z",
     "iopub.status.busy": "2024-07-20T09:39:32.124711Z",
     "iopub.status.idle": "2024-07-20T09:39:36.416769Z",
     "shell.execute_reply": "2024-07-20T09:39:36.415648Z"
    },
    "papermill": {
     "duration": 4.308324,
     "end_time": "2024-07-20T09:39:36.419314",
     "exception": false,
     "start_time": "2024-07-20T09:39:32.110990",
     "status": "completed"
    },
    "tags": []
   },
   "outputs": [],
   "source": [
    "cv_score = cross_val_score(rf,X_resampled,y_resampled,cv=10)"
   ]
  },
  {
   "cell_type": "code",
   "execution_count": null,
   "id": "50968517",
   "metadata": {
    "execution": {
     "iopub.execute_input": "2024-07-20T09:39:36.443625Z",
     "iopub.status.busy": "2024-07-20T09:39:36.443225Z",
     "iopub.status.idle": "2024-07-20T09:39:36.450171Z",
     "shell.execute_reply": "2024-07-20T09:39:36.449080Z"
    },
    "papermill": {
     "duration": 0.021505,
     "end_time": "2024-07-20T09:39:36.452411",
     "exception": false,
     "start_time": "2024-07-20T09:39:36.430906",
     "status": "completed"
    },
    "tags": []
   },
   "outputs": [
    {
     "data": {
      "text/plain": [
       "0.9379406307977737"
      ]
     },
     "execution_count": 31,
     "metadata": {},
     "output_type": "execute_result"
    }
   ],
   "source": [
    "cv_score.mean()"
   ]
  },
  {
   "cell_type": "code",
   "execution_count": null,
   "id": "5302d28e",
   "metadata": {
    "execution": {
     "iopub.execute_input": "2024-07-20T09:39:36.477405Z",
     "iopub.status.busy": "2024-07-20T09:39:36.477011Z",
     "iopub.status.idle": "2024-07-20T09:39:49.675643Z",
     "shell.execute_reply": "2024-07-20T09:39:49.674341Z"
    },
    "papermill": {
     "duration": 13.214425,
     "end_time": "2024-07-20T09:39:49.678270",
     "exception": false,
     "start_time": "2024-07-20T09:39:36.463845",
     "status": "completed"
    },
    "tags": []
   },
   "outputs": [],
   "source": [
    "from sklearn.model_selection import learning_curve\n",
    "train_sizes, train_scores, test_scores = learning_curve(\n",
    "    rf, X_resampled,y_resampled, train_sizes=np.linspace(0.1, 1.0, 10), cv=10, n_jobs=-1)"
   ]
  },
  {
   "cell_type": "code",
   "execution_count": null,
   "id": "d2dccbd1",
   "metadata": {
    "execution": {
     "iopub.execute_input": "2024-07-20T09:39:49.704136Z",
     "iopub.status.busy": "2024-07-20T09:39:49.703690Z",
     "iopub.status.idle": "2024-07-20T09:39:50.085119Z",
     "shell.execute_reply": "2024-07-20T09:39:50.083203Z"
    },
    "papermill": {
     "duration": 0.397238,
     "end_time": "2024-07-20T09:39:50.087789",
     "exception": false,
     "start_time": "2024-07-20T09:39:49.690551",
     "status": "completed"
    },
    "tags": []
   },
   "outputs": [
    {
     "data": {
      "image/png": "[encoded data removed]",
      "text/plain": [
       "<Figure size 1000x600 with 1 Axes>"
      ]
     },
     "metadata": {},
     "output_type": "display_data"
    }
   ],
   "source": [
    "import matplotlib.pyplot as plt\n",
    "train_mean = np.mean(train_scores, axis=1)\n",
    "train_std = np.std(train_scores, axis=1)\n",
    "test_mean = np.mean(test_scores, axis=1)\n",
    "test_std = np.std(test_scores, axis=1)\n",
    "\n",
    "# Plot learning curve\n",
    "plt.figure(figsize=(10, 6))\n",
    "plt.fill_between(train_sizes, train_mean - train_std, train_mean + train_std, alpha=0.1, color='blue')\n",
    "plt.fill_between(train_sizes, test_mean - test_std, test_mean + test_std, alpha=0.1, color='green')\n",
    "plt.plot(train_sizes, train_mean, 'o-', color='blue', label='Training score')\n",
    "plt.plot(train_sizes, test_mean, 'o-', color='green', label='Cross-validation score')\n",
    "plt.xlabel('Training examples')\n",
    "plt.ylabel('Score')\n",
    "plt.title('Learning Curve')\n",
    "plt.legend(loc='best')\n",
    "plt.grid()\n",
    "plt.show()"
   ]
  },
  {
   "cell_type": "code",
   "execution_count": null,
   "id": "13d4f79a",
   "metadata": {
    "execution": {
     "iopub.execute_input": "2024-07-20T09:39:50.114288Z",
     "iopub.status.busy": "2024-07-20T09:39:50.113864Z",
     "iopub.status.idle": "2024-07-20T09:39:50.121866Z",
     "shell.execute_reply": "2024-07-20T09:39:50.120466Z"
    },
    "papermill": {
     "duration": 0.024532,
     "end_time": "2024-07-20T09:39:50.124764",
     "exception": false,
     "start_time": "2024-07-20T09:39:50.100232",
     "status": "completed"
    },
    "tags": []
   },
   "outputs": [
    {
     "data": {
      "text/plain": [
       "'\\nThe model shows high accuracy and good generalization performance.\\nThe small difference between the test score and the cross-validation score suggests that the model is not overfitting and is likely to perform well on new, unseen data.\\n'"
      ]
     },
     "execution_count": 34,
     "metadata": {},
     "output_type": "execute_result"
    }
   ],
   "source": [
    "'''\n",
    "The model shows high accuracy and good generalization performance.\n",
    "The small difference between the test score and the cross-validation score suggests that the model is not overfitting and is likely to perform well on new, unseen data.\n",
    "'''"
   ]
  }
 ],
 "metadata": {
  "kaggle": {
   "accelerator": "none",
   "dataSources": [
    {
     "datasetId": 310,
     "sourceId": 23498,
     "sourceType": "datasetVersion"
    }
   ],
   "dockerImageVersionId": 30746,
   "isGpuEnabled": false,
   "isInternetEnabled": false,
   "language": "python",
   "sourceType": "notebook"
  },
  "kernelspec": {
   "display_name": "Python 3",
   "language": "python",
   "name": "python3"
  },
  "language_info": {
   "codemirror_mode": {
    "name": "ipython",
    "version": 3
   },
   "file_extension": ".py",
   "mimetype": "text/x-python",
   "name": "python",
   "nbconvert_exporter": "python",
   "pygments_lexer": "ipython3",
   "version": "3.9.5"
  },
  "papermill": {
   "default_parameters": {},
   "duration": 32.033961,
   "end_time": "2024-07-20T09:39:52.761925",
   "environment_variables": {},
   "exception": null,
   "input_path": "__notebook__.ipynb",
   "output_path": "__notebook__.ipynb",
   "parameters": {},
   "start_time": "2024-07-20T09:39:20.727964",
   "version": "2.5.0"
  }
 },
 "nbformat": 4,
 "nbformat_minor": 5
}
